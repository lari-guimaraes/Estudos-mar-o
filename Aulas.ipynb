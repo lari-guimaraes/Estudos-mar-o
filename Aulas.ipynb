{
 "cells": [
  {
   "cell_type": "code",
   "execution_count": 96,
   "id": "cb1e0199",
   "metadata": {},
   "outputs": [
    {
     "ename": "SyntaxError",
     "evalue": "invalid syntax (Temp/ipykernel_8456/924411333.py, line 1)",
     "output_type": "error",
     "traceback": [
      "\u001b[1;36m  File \u001b[1;32m\"C:\\Users\\laris\\AppData\\Local\\Temp/ipykernel_8456/924411333.py\"\u001b[1;36m, line \u001b[1;32m1\u001b[0m\n\u001b[1;33m    git remote add origin git@github.com:lari-guimaraes/Estudos-mar-o.git\u001b[0m\n\u001b[1;37m        ^\u001b[0m\n\u001b[1;31mSyntaxError\u001b[0m\u001b[1;31m:\u001b[0m invalid syntax\n"
     ]
    }
   ],
   "source": [
    "git remote add origin git@github.com:lari-guimaraes/Estudos-mar-o.git\n",
    "git branch -M main\n",
    "git push -u origin main"
   ]
  },
  {
   "cell_type": "markdown",
   "id": "a6437b4e",
   "metadata": {},
   "source": [
    "Aula 1"
   ]
  },
  {
   "cell_type": "markdown",
   "id": "8aff3a6a",
   "metadata": {},
   "source": [
    "Fazendo as primeiras visualizações"
   ]
  },
  {
   "cell_type": "code",
   "execution_count": null,
   "id": "132d2714",
   "metadata": {},
   "outputs": [],
   "source": [
    "import pandas as pd"
   ]
  },
  {
   "cell_type": "code",
   "execution_count": null,
   "id": "728b072e",
   "metadata": {},
   "outputs": [],
   "source": [
    "df = pd.read_csv('monitoramento_tempo.csv')"
   ]
  },
  {
   "cell_type": "code",
   "execution_count": null,
   "id": "237ab922",
   "metadata": {},
   "outputs": [],
   "source": [
    "df.head()"
   ]
  },
  {
   "cell_type": "code",
   "execution_count": null,
   "id": "e32c879c",
   "metadata": {},
   "outputs": [],
   "source": [
    "df.info()"
   ]
  },
  {
   "cell_type": "code",
   "execution_count": null,
   "id": "61542c52",
   "metadata": {},
   "outputs": [],
   "source": [
    "df['data'] = pd.to_datetime(df['data'])"
   ]
  },
  {
   "cell_type": "code",
   "execution_count": null,
   "id": "d5927cd3",
   "metadata": {},
   "outputs": [],
   "source": [
    "import matplotlib.pyplot as plt\n",
    "%matplotlib inline"
   ]
  },
  {
   "cell_type": "code",
   "execution_count": null,
   "id": "41c19ae8",
   "metadata": {},
   "outputs": [],
   "source": [
    "plt.plot(df['data'], df['temperatura'])"
   ]
  },
  {
   "cell_type": "code",
   "execution_count": null,
   "id": "6ef4a8f3",
   "metadata": {},
   "outputs": [],
   "source": [
    "plt.figure(figsize = (15,8))\n",
    "plt.plot(df['data'], df['temperatura'])"
   ]
  },
  {
   "cell_type": "code",
   "execution_count": null,
   "id": "f8e8e7cf",
   "metadata": {},
   "outputs": [],
   "source": [
    "plt.figure(figsize = (15,8))\n",
    "plt.plot(df['data'], df['temperatura'])\n",
    "plt.title('Temperatura no tempo')"
   ]
  },
  {
   "cell_type": "code",
   "execution_count": 97,
   "id": "ff708979",
   "metadata": {},
   "outputs": [
    {
     "data": {
      "image/png": "[encoded data removed]",
      "text/plain": [
       "<Figure size 1080x576 with 1 Axes>"
      ]
     },
     "metadata": {
      "needs_background": "light"
     },
     "output_type": "display_data"
    }
   ],
   "source": [
    "fig = plt.figure(figsize = (15,8))\n",
    "eixo = fig.add_axes([0, 0, 1, 1])"
   ]
  },
  {
   "cell_type": "code",
   "execution_count": 98,
   "id": "bf525eea",
   "metadata": {},
   "outputs": [
    {
     "ename": "KeyError",
     "evalue": "'data'",
     "output_type": "error",
     "traceback": [
      "\u001b[1;31m---------------------------------------------------------------------------\u001b[0m",
      "\u001b[1;31mKeyError\u001b[0m                                  Traceback (most recent call last)",
      "\u001b[1;32m~\\anaconda3\\lib\\site-packages\\pandas\\core\\indexes\\base.py\u001b[0m in \u001b[0;36mget_loc\u001b[1;34m(self, key, method, tolerance)\u001b[0m\n\u001b[0;32m   3360\u001b[0m             \u001b[1;32mtry\u001b[0m\u001b[1;33m:\u001b[0m\u001b[1;33m\u001b[0m\u001b[1;33m\u001b[0m\u001b[0m\n\u001b[1;32m-> 3361\u001b[1;33m                 \u001b[1;32mreturn\u001b[0m \u001b[0mself\u001b[0m\u001b[1;33m.\u001b[0m\u001b[0m_engine\u001b[0m\u001b[1;33m.\u001b[0m\u001b[0mget_loc\u001b[0m\u001b[1;33m(\u001b[0m\u001b[0mcasted_key\u001b[0m\u001b[1;33m)\u001b[0m\u001b[1;33m\u001b[0m\u001b[1;33m\u001b[0m\u001b[0m\n\u001b[0m\u001b[0;32m   3362\u001b[0m             \u001b[1;32mexcept\u001b[0m \u001b[0mKeyError\u001b[0m \u001b[1;32mas\u001b[0m \u001b[0merr\u001b[0m\u001b[1;33m:\u001b[0m\u001b[1;33m\u001b[0m\u001b[1;33m\u001b[0m\u001b[0m\n",
      "\u001b[1;32m~\\anaconda3\\lib\\site-packages\\pandas\\_libs\\index.pyx\u001b[0m in \u001b[0;36mpandas._libs.index.IndexEngine.get_loc\u001b[1;34m()\u001b[0m\n",
      "\u001b[1;32m~\\anaconda3\\lib\\site-packages\\pandas\\_libs\\index.pyx\u001b[0m in \u001b[0;36mpandas._libs.index.IndexEngine.get_loc\u001b[1;34m()\u001b[0m\n",
      "\u001b[1;32mpandas\\_libs\\hashtable_class_helper.pxi\u001b[0m in \u001b[0;36mpandas._libs.hashtable.PyObjectHashTable.get_item\u001b[1;34m()\u001b[0m\n",
      "\u001b[1;32mpandas\\_libs\\hashtable_class_helper.pxi\u001b[0m in \u001b[0;36mpandas._libs.hashtable.PyObjectHashTable.get_item\u001b[1;34m()\u001b[0m\n",
      "\u001b[1;31mKeyError\u001b[0m: 'data'",
      "\nThe above exception was the direct cause of the following exception:\n",
      "\u001b[1;31mKeyError\u001b[0m                                  Traceback (most recent call last)",
      "\u001b[1;32m~\\AppData\\Local\\Temp/ipykernel_8456/1561902265.py\u001b[0m in \u001b[0;36m<module>\u001b[1;34m\u001b[0m\n\u001b[0;32m      2\u001b[0m \u001b[0meixo\u001b[0m \u001b[1;33m=\u001b[0m \u001b[0mfig\u001b[0m\u001b[1;33m.\u001b[0m\u001b[0madd_axes\u001b[0m\u001b[1;33m(\u001b[0m\u001b[1;33m[\u001b[0m\u001b[1;36m0\u001b[0m\u001b[1;33m,\u001b[0m \u001b[1;36m0\u001b[0m\u001b[1;33m,\u001b[0m \u001b[1;36m1\u001b[0m\u001b[1;33m,\u001b[0m \u001b[1;36m1\u001b[0m\u001b[1;33m]\u001b[0m\u001b[1;33m)\u001b[0m\u001b[1;33m\u001b[0m\u001b[1;33m\u001b[0m\u001b[0m\n\u001b[0;32m      3\u001b[0m \u001b[1;33m\u001b[0m\u001b[0m\n\u001b[1;32m----> 4\u001b[1;33m \u001b[0meixo\u001b[0m\u001b[1;33m.\u001b[0m\u001b[0mplot\u001b[0m\u001b[1;33m(\u001b[0m\u001b[0mdf\u001b[0m\u001b[1;33m[\u001b[0m\u001b[1;34m'data'\u001b[0m\u001b[1;33m]\u001b[0m\u001b[1;33m,\u001b[0m \u001b[0mdf\u001b[0m\u001b[1;33m[\u001b[0m\u001b[1;34m'temperatura'\u001b[0m\u001b[1;33m]\u001b[0m\u001b[1;33m)\u001b[0m\u001b[1;33m\u001b[0m\u001b[1;33m\u001b[0m\u001b[0m\n\u001b[0m\u001b[0;32m      5\u001b[0m \u001b[0meixo\u001b[0m\u001b[1;33m.\u001b[0m\u001b[0mset_title\u001b[0m\u001b[1;33m(\u001b[0m\u001b[1;34m'Temperatura no momento'\u001b[0m\u001b[1;33m)\u001b[0m\u001b[1;33m\u001b[0m\u001b[1;33m\u001b[0m\u001b[0m\n",
      "\u001b[1;32m~\\anaconda3\\lib\\site-packages\\pandas\\core\\frame.py\u001b[0m in \u001b[0;36m__getitem__\u001b[1;34m(self, key)\u001b[0m\n\u001b[0;32m   3456\u001b[0m             \u001b[1;32mif\u001b[0m \u001b[0mself\u001b[0m\u001b[1;33m.\u001b[0m\u001b[0mcolumns\u001b[0m\u001b[1;33m.\u001b[0m\u001b[0mnlevels\u001b[0m \u001b[1;33m>\u001b[0m \u001b[1;36m1\u001b[0m\u001b[1;33m:\u001b[0m\u001b[1;33m\u001b[0m\u001b[1;33m\u001b[0m\u001b[0m\n\u001b[0;32m   3457\u001b[0m                 \u001b[1;32mreturn\u001b[0m \u001b[0mself\u001b[0m\u001b[1;33m.\u001b[0m\u001b[0m_getitem_multilevel\u001b[0m\u001b[1;33m(\u001b[0m\u001b[0mkey\u001b[0m\u001b[1;33m)\u001b[0m\u001b[1;33m\u001b[0m\u001b[1;33m\u001b[0m\u001b[0m\n\u001b[1;32m-> 3458\u001b[1;33m             \u001b[0mindexer\u001b[0m \u001b[1;33m=\u001b[0m \u001b[0mself\u001b[0m\u001b[1;33m.\u001b[0m\u001b[0mcolumns\u001b[0m\u001b[1;33m.\u001b[0m\u001b[0mget_loc\u001b[0m\u001b[1;33m(\u001b[0m\u001b[0mkey\u001b[0m\u001b[1;33m)\u001b[0m\u001b[1;33m\u001b[0m\u001b[1;33m\u001b[0m\u001b[0m\n\u001b[0m\u001b[0;32m   3459\u001b[0m             \u001b[1;32mif\u001b[0m \u001b[0mis_integer\u001b[0m\u001b[1;33m(\u001b[0m\u001b[0mindexer\u001b[0m\u001b[1;33m)\u001b[0m\u001b[1;33m:\u001b[0m\u001b[1;33m\u001b[0m\u001b[1;33m\u001b[0m\u001b[0m\n\u001b[0;32m   3460\u001b[0m                 \u001b[0mindexer\u001b[0m \u001b[1;33m=\u001b[0m \u001b[1;33m[\u001b[0m\u001b[0mindexer\u001b[0m\u001b[1;33m]\u001b[0m\u001b[1;33m\u001b[0m\u001b[1;33m\u001b[0m\u001b[0m\n",
      "\u001b[1;32m~\\anaconda3\\lib\\site-packages\\pandas\\core\\indexes\\base.py\u001b[0m in \u001b[0;36mget_loc\u001b[1;34m(self, key, method, tolerance)\u001b[0m\n\u001b[0;32m   3361\u001b[0m                 \u001b[1;32mreturn\u001b[0m \u001b[0mself\u001b[0m\u001b[1;33m.\u001b[0m\u001b[0m_engine\u001b[0m\u001b[1;33m.\u001b[0m\u001b[0mget_loc\u001b[0m\u001b[1;33m(\u001b[0m\u001b[0mcasted_key\u001b[0m\u001b[1;33m)\u001b[0m\u001b[1;33m\u001b[0m\u001b[1;33m\u001b[0m\u001b[0m\n\u001b[0;32m   3362\u001b[0m             \u001b[1;32mexcept\u001b[0m \u001b[0mKeyError\u001b[0m \u001b[1;32mas\u001b[0m \u001b[0merr\u001b[0m\u001b[1;33m:\u001b[0m\u001b[1;33m\u001b[0m\u001b[1;33m\u001b[0m\u001b[0m\n\u001b[1;32m-> 3363\u001b[1;33m                 \u001b[1;32mraise\u001b[0m \u001b[0mKeyError\u001b[0m\u001b[1;33m(\u001b[0m\u001b[0mkey\u001b[0m\u001b[1;33m)\u001b[0m \u001b[1;32mfrom\u001b[0m \u001b[0merr\u001b[0m\u001b[1;33m\u001b[0m\u001b[1;33m\u001b[0m\u001b[0m\n\u001b[0m\u001b[0;32m   3364\u001b[0m \u001b[1;33m\u001b[0m\u001b[0m\n\u001b[0;32m   3365\u001b[0m         \u001b[1;32mif\u001b[0m \u001b[0mis_scalar\u001b[0m\u001b[1;33m(\u001b[0m\u001b[0mkey\u001b[0m\u001b[1;33m)\u001b[0m \u001b[1;32mand\u001b[0m \u001b[0misna\u001b[0m\u001b[1;33m(\u001b[0m\u001b[0mkey\u001b[0m\u001b[1;33m)\u001b[0m \u001b[1;32mand\u001b[0m \u001b[1;32mnot\u001b[0m \u001b[0mself\u001b[0m\u001b[1;33m.\u001b[0m\u001b[0mhasnans\u001b[0m\u001b[1;33m:\u001b[0m\u001b[1;33m\u001b[0m\u001b[1;33m\u001b[0m\u001b[0m\n",
      "\u001b[1;31mKeyError\u001b[0m: 'data'"
     ]
    },
    {
     "data": {
      "image/png": "[encoded data removed]",
      "text/plain": [
       "<Figure size 1080x576 with 1 Axes>"
      ]
     },
     "metadata": {
      "needs_background": "light"
     },
     "output_type": "display_data"
    }
   ],
   "source": [
    "fig = plt.figure(figsize = (15,8))\n",
    "eixo = fig.add_axes([0, 0, 1, 1])\n",
    "\n",
    "eixo.plot(df['data'], df['temperatura'])\n",
    "eixo.set_title('Temperatura no momento')"
   ]
  },
  {
   "cell_type": "code",
   "execution_count": null,
   "id": "17feb1ee",
   "metadata": {},
   "outputs": [],
   "source": [
    "fig = plt.figure(figsize = (15,8))\n",
    "eixo = fig.add_axes([0, 0, 1, 1])\n",
    "\n",
    "eixo.plot(df['data'], df['temperatura'])\n",
    "eixo.set_title('Temperatura no momento')\n",
    "eixo.set_ylabel('Temperatura')\n",
    "eixo.set_xlabel('Data')"
   ]
  },
  {
   "cell_type": "code",
   "execution_count": null,
   "id": "c5549e2b",
   "metadata": {},
   "outputs": [],
   "source": [
    "fig = plt.figure(figsize = (15,8))\n",
    "eixo = fig.add_axes([0, 0, 1, 1])\n",
    "\n",
    "eixo.plot(df['data'], df['temperatura'])\n",
    "eixo.set_title('Temperatura no momento', fontsize = 25)\n",
    "eixo.set_ylabel('Temperatura', fontsize = 20)\n",
    "eixo.set_xlabel('Data', fontsize = 20)"
   ]
  },
  {
   "cell_type": "code",
   "execution_count": null,
   "id": "3557a301",
   "metadata": {},
   "outputs": [],
   "source": [
    "fig = plt.figure(figsize = (15,8))\n",
    "eixo = fig.add_axes([0, 0, 1, 1])\n",
    "\n",
    "eixo.plot(df['data'], df['temperatura'])\n",
    "eixo.set_title('Temperatura no momento', fontsize = 25)\n",
    "eixo.set_ylabel('Temperatura', fontsize = 20)\n",
    "eixo.set_xlabel('Data', fontsize = 20)\n",
    "eixo.legend(['temperatura'], loc = 'lower right', fontsize = 15)"
   ]
  },
  {
   "cell_type": "code",
   "execution_count": null,
   "id": "fe0153c9",
   "metadata": {},
   "outputs": [],
   "source": [
    "fig = plt.figure(figsize = (15,8))\n",
    "eixo = fig.add_axes([0, 0, 1, 1])\n",
    "\n",
    "eixo.plot(df['data'], df['temperatura'], color = 'green')\n",
    "eixo.set_title('Temperatura no momento', fontsize = 25)\n",
    "eixo.set_ylabel('Temperatura', fontsize = 20)\n",
    "eixo.set_xlabel('Data', fontsize = 20)\n",
    "eixo.legend(['temperatura'], loc = 'lower right', fontsize = 15)\n"
   ]
  },
  {
   "cell_type": "markdown",
   "id": "3abab1c5",
   "metadata": {},
   "source": [
    "Aula 2"
   ]
  },
  {
   "cell_type": "markdown",
   "id": "790c10f5",
   "metadata": {},
   "source": [
    "Customizando nossas visualizações"
   ]
  },
  {
   "cell_type": "code",
   "execution_count": null,
   "id": "8dd2b669",
   "metadata": {},
   "outputs": [],
   "source": [
    "fig = plt.figure(figsize = (15,8))\n",
    "eixo = fig.add_axes([0, 0, 1, 1])\n",
    "\n",
    "eixo.plot(df['data'], df['temperatura'], color = 'g', lw = 4)\n",
    "eixo.set_title('Temperatura no momento', fontsize = 25)\n",
    "eixo.set_ylabel('Temperatura', fontsize = 20)\n",
    "eixo.set_xlabel('Data', fontsize = 20)\n",
    "eixo.legend(['temperatura'], loc = 'lower right', fontsize = 15)"
   ]
  },
  {
   "cell_type": "code",
   "execution_count": null,
   "id": "0f14b38c",
   "metadata": {},
   "outputs": [],
   "source": [
    "fig = plt.figure(figsize = (15,8))\n",
    "eixo = fig.add_axes([0, 0, 1, 1])\n",
    "\n",
    "eixo.plot(df['data'], df['temperatura'], color = 'g', lw = 0.4)\n",
    "eixo.set_title('Temperatura no momento', fontsize = 25)\n",
    "eixo.set_ylabel('Temperatura', fontsize = 20)\n",
    "eixo.set_xlabel('Data', fontsize = 20)\n",
    "eixo.legend(['temperatura'], loc = 'lower right', fontsize = 15)"
   ]
  },
  {
   "cell_type": "code",
   "execution_count": null,
   "id": "70ffc892",
   "metadata": {},
   "outputs": [],
   "source": [
    "import datetime"
   ]
  },
  {
   "cell_type": "code",
   "execution_count": null,
   "id": "1eefa393",
   "metadata": {},
   "outputs": [],
   "source": [
    "fig = plt.figure(figsize = (15,8))\n",
    "eixo = fig.add_axes([0, 0, 1, 1])\n",
    "\n",
    "eixo.set_xlim(datetime.datetime(2014,1,1), datetime.datetime(2015,1,1))\n",
    "eixo.plot(df['data'], df['temperatura'], color = 'g')\n",
    "eixo.set_title('Temperatura no momento', fontsize = 25)\n",
    "eixo.set_ylabel('Temperatura', fontsize = 20)\n",
    "eixo.set_xlabel('Data', fontsize = 20)\n",
    "eixo.legend(['temperatura'], loc = 'lower right', fontsize = 15)"
   ]
  },
  {
   "cell_type": "code",
   "execution_count": null,
   "id": "c8136510",
   "metadata": {},
   "outputs": [],
   "source": [
    "fig = plt.figure(figsize = (15,8))\n",
    "eixo = fig.add_axes([0, 0, 1, 1])\n",
    "\n",
    "eixo.set_xlim(datetime.datetime(2014,1,1), datetime.datetime(2015,1,1))\n",
    "eixo.plot(df['data'], df['temperatura'], color = 'g', marker = 'o')\n",
    "eixo.set_title('Temperatura no momento', fontsize = 25)\n",
    "eixo.set_ylabel('Temperatura', fontsize = 20)\n",
    "eixo.set_xlabel('Data', fontsize = 20)\n",
    "eixo.legend(['temperatura'], loc = 'lower right', fontsize = 15)"
   ]
  },
  {
   "cell_type": "code",
   "execution_count": null,
   "id": "7dc729c5",
   "metadata": {},
   "outputs": [],
   "source": [
    "fig = plt.figure(figsize = (15,8))\n",
    "eixo = fig.add_axes([0, 0, 1, 1])\n",
    "eixo.plot(df['data'], df['temperatura'], color = 'g')\n",
    "\n",
    "eixo.set_xlim(datetime.datetime(2014,1,1), datetime.datetime(2015,1,1))\n",
    "eixo.set_title('Temperatura no momento', fontsize = 25)\n",
    "eixo.set_ylabel('Temperatura', fontsize = 20)\n",
    "eixo.set_xlabel('Data', fontsize = 20)\n",
    "eixo.legend(['temperatura'], loc = 'lower right', fontsize = 15)\n",
    "eixo.grid(True)"
   ]
  },
  {
   "cell_type": "code",
   "execution_count": null,
   "id": "3ec16b42",
   "metadata": {},
   "outputs": [],
   "source": [
    "fig = plt.figure(figsize = (15,8))\n",
    "\n",
    "eixo = fig.add_axes([0, 0, 1, 1])\n",
    "eixo2 = fig.add_axes([0.1, 0.5, 0.4, 0.4])"
   ]
  },
  {
   "cell_type": "code",
   "execution_count": null,
   "id": "07762a8e",
   "metadata": {},
   "outputs": [],
   "source": [
    "fig = plt.figure(figsize = (15,8))\n",
    "\n",
    "eixo = fig.add_axes([0, 0, 1, 1])\n",
    "eixo2 = fig.add_axes([0.1, 0.5, 0.4, 0.4])\n",
    "\n",
    "eixo.plot(df['data'], df['temperatura'], color = 'g')\n",
    "eixo.grid(True)\n",
    "eixo.set_title('Temperatura no momento', fontsize = 25, pad = 20)\n",
    "eixo.legend(['temperatura'], loc = 'best', fontsize = 15)"
   ]
  },
  {
   "cell_type": "code",
   "execution_count": null,
   "id": "563fa93e",
   "metadata": {},
   "outputs": [],
   "source": [
    "fig = plt.figure(figsize = (15,8))\n",
    "\n",
    "eixo = fig.add_axes([0, 0, 1, 1])\n",
    "eixo2 = fig.add_axes([0.1, 0.5, 0.4, 0.4])\n",
    "\n",
    "eixo.plot(df['data'], df['temperatura'], color = 'g')\n",
    "eixo.grid(True)\n",
    "eixo.set_title('Temperatura no momento', fontsize = 25, pad = 20)\n",
    "eixo.legend(['temperatura'], loc = 'best', fontsize = 15)\n",
    "eixo.set_ylabel('Temperatura', fontsize = 20)\n",
    "eixo.set_xlabel('Data', fontsize = 20)\n",
    "\n",
    "eixo2.plot(df['data'], df['temperatura'], color = 'b')\n",
    "eixo2.set_title('Temperatura no momento', fontsize = 15)\n",
    "eixo2.legend(['temperatura'], loc = 'best', fontsize = 8)\n",
    "eixo2.set_ylabel('Temperatura', fontsize = 10)\n",
    "eixo2.set_xlabel('Data', fontsize = 10)"
   ]
  },
  {
   "cell_type": "code",
   "execution_count": null,
   "id": "c267732d",
   "metadata": {},
   "outputs": [],
   "source": [
    "fig = plt.figure(figsize = (15,8))\n",
    "\n",
    "eixo = fig.add_axes([0, 0, 1, 1])\n",
    "eixo2 = fig.add_axes([0.7, 0.65, 0.3, 0.3])\n",
    "\n",
    "eixo.plot(df['data'], df['temperatura'], color = 'g')\n",
    "eixo.set_xlim(datetime.datetime(2014,1,1), datetime.datetime(2015,1,1))\n",
    "eixo.grid(True)\n",
    "eixo.set_title('Temperatura em 2014', fontsize = 25, pad = 20)\n",
    "eixo.legend(['temperatura'], loc = 'lower right', fontsize = 15)\n",
    "eixo.set_ylabel('Temperatura', fontsize = 20)\n",
    "eixo.set_xlabel('Data', fontsize = 20)\n",
    "\n",
    "eixo2.plot(df['data'], df['temperatura'], color = 'b')\n",
    "eixo2.set_title('Temperatura no momento', fontsize = 15)\n",
    "eixo2.legend(['temperatura'], loc = 'best', fontsize = 8)\n",
    "eixo2.set_ylabel('Temperatura', fontsize = 10)\n",
    "eixo2.set_xlabel('Data', fontsize = 10)\n",
    "eixo2.grid(True)"
   ]
  },
  {
   "cell_type": "code",
   "execution_count": null,
   "id": "37fdbece",
   "metadata": {},
   "outputs": [],
   "source": [
    "fig = plt.figure(figsize = (15,8))\n",
    "\n",
    "eixo = fig.add_axes([0, 0, 1, 1])\n",
    "eixo2 = fig.add_axes([0.7, 0.65, 0.3, 0.3])\n",
    "\n",
    "eixo.plot(df['data'], df['temperatura'], color = 'g')\n",
    "eixo.set_xlim(datetime.datetime(2014,5,1), datetime.datetime(2014,6,1))\n",
    "eixo.grid(True)\n",
    "eixo.set_title('Temperatura em 2014', fontsize = 25, pad = 20)\n",
    "eixo.legend(['temperatura'], loc = 'lower right', fontsize = 15)\n",
    "eixo.set_ylabel('Temperatura', fontsize = 20)\n",
    "eixo.set_xlabel('Data', fontsize = 20)\n",
    "\n",
    "eixo2.plot(df['data'], df['temperatura'], color = 'b')\n",
    "eixo2.set_xlim(datetime.datetime(2014,1,1), datetime.datetime(2015,1,1))\n",
    "eixo2.set_title('Temperatura no momento', fontsize = 15)\n",
    "eixo2.legend(['temperatura'], loc = 'best', fontsize = 8)\n",
    "eixo2.set_ylabel('Temperatura', fontsize = 10)\n",
    "eixo2.set_xlabel('Data', fontsize = 10)\n",
    "eixo2.grid(True)"
   ]
  },
  {
   "cell_type": "code",
   "execution_count": null,
   "id": "729c0e05",
   "metadata": {},
   "outputs": [],
   "source": [
    "fig = plt.figure(figsize = (15,8))\n",
    "\n",
    "eixo = fig.add_axes([0, 0, 1, 1])\n",
    "eixo2 = fig.add_axes([0.7, 0.65, 0.3, 0.3])\n",
    "\n",
    "eixo.plot(df['data'], df['temperatura'], color = 'g')\n",
    "eixo.set_xlim(datetime.datetime(2014,5,1), datetime.datetime(2014,6,1))\n",
    "eixo.set_ylim(270,320)\n",
    "eixo.grid(True)\n",
    "eixo.set_title('Temperatura em Maio/2014', fontsize = 25, pad = 20)\n",
    "eixo.legend(['temperatura'], loc = 'lower right', fontsize = 15)\n",
    "eixo.set_ylabel('Temperatura', fontsize = 20)\n",
    "eixo.set_xlabel('Data', fontsize = 20)\n",
    "\n",
    "eixo2.plot(df['data'], df['temperatura'], color = 'b')\n",
    "eixo2.set_xlim(datetime.datetime(2014,1,1), datetime.datetime(2015,1,1))\n",
    "eixo2.set_title('Temperatura em 2014', fontsize = 15)\n",
    "eixo2.legend(['temperatura'], loc = 'best', fontsize = 8)\n",
    "eixo2.set_ylabel('Temperatura', fontsize = 10)\n",
    "eixo2.set_xlabel('Data', fontsize = 10)\n",
    "eixo2.grid(True)"
   ]
  },
  {
   "cell_type": "code",
   "execution_count": null,
   "id": "d0bc1cb4",
   "metadata": {},
   "outputs": [],
   "source": [
    "fig = plt.figure(figsize = (15,8))\n",
    "\n",
    "eixo = fig.add_axes([0, 0, 1, 1])\n",
    "eixo2 = fig.add_axes([0.7, 0.65, 0.3, 0.3])\n",
    "\n",
    "eixo.plot(df['data'], df['temperatura'], color = 'g')\n",
    "eixo.set_xlim(datetime.datetime(2014,5,1), datetime.datetime(2014,6,1))\n",
    "eixo.set_ylim(270,320)\n",
    "eixo.grid(True)\n",
    "eixo.set_title('Temperatura em Maio/2014', fontsize = 25, pad = 20)\n",
    "eixo.legend(['temperatura'], loc = 'lower right', fontsize = 15)\n",
    "eixo.set_ylabel('Temperatura', fontsize = 20)\n",
    "eixo.set_xlabel('Data', fontsize = 20)\n",
    "\n",
    "azul_esquerda = df['data'] < datetime.datetime(2014,5,1)\n",
    "azul_direita = df['data'] > datetime.datetime(2014,6,1)\n",
    "\n",
    "eixo2.plot(df['data'], df['temperatura'], color = 'g')\n",
    "eixo2.plot(df[azul_esquerda]['data'], df[azul_esquerda]['temperatura'], color = 'b')\n",
    "eixo2.plot(df[azul_direita]['data'], df[azul_direita]['temperatura'], color = 'b')\n",
    "eixo2.set_xlim(datetime.datetime(2014,1,1), datetime.datetime(2015,1,1))\n",
    "eixo2.set_title('Temperatura em 2014', fontsize = 15)\n",
    "eixo2.legend(['temperatura'], loc = 'best', fontsize = 8)\n",
    "eixo2.set_ylabel('Temperatura', fontsize = 10)\n",
    "eixo2.set_xlabel('Data', fontsize = 10)\n",
    "eixo2.grid(True)\n"
   ]
  },
  {
   "cell_type": "code",
   "execution_count": null,
   "id": "91b1bdf5",
   "metadata": {},
   "outputs": [],
   "source": [
    "fig = plt.figure(figsize = (15, 8))\n",
    "eixo = fig.add_axes([0,0,1,1])\n",
    "eixo.plot(df['data'], df['temperatura'], color = 'g')\n",
    "eixo.set_title('Temperatura no momento', fontsize = 25, pad = 20)\n",
    "eixo.set_xlabel('Data', fontsize = 20)\n",
    "eixo.set_ylabel('Temperatura', fontsize = 20)\n",
    "eixo.legend(['Temperatura'], loc = 'lower right', fontsize = 15)\n",
    "eixo.grid(True)\n",
    "\n",
    "eixo.axhline(max(df['temperatura']), color = 'k', linestyle = '--')\n",
    "eixo.axhline(min(df['temperatura']), color = 'k', linestyle = '--')"
   ]
  },
  {
   "cell_type": "code",
   "execution_count": null,
   "id": "1852ed31",
   "metadata": {},
   "outputs": [],
   "source": [
    "fig = plt.figure(figsize = (15, 8))\n",
    "eixo = fig.add_axes([0,0,1,1])\n",
    "eixo.plot(df['data'], df['temperatura'], color = 'g')\n",
    "eixo.set_title('Temperatura no momento', fontsize = 25, pad = 20)\n",
    "eixo.set_xlabel('Data', fontsize = 20)\n",
    "eixo.set_ylabel('Temperatura', fontsize = 20)\n",
    "eixo.legend(['Temperatura'], loc = 'lower right', fontsize = 15)\n",
    "eixo.grid(True)\n",
    "\n",
    "x1 = df['data'][df['temperatura'].idxmax()]\n",
    "y1 = max(df['temperatura'])\n",
    "\n",
    "eixo.annotate(\"Máximo\", xy=(x1, y1), fontsize = 15)\n",
    "\n",
    "eixo.axhline(max(df['temperatura']), color = 'k', linestyle = '--')\n",
    "eixo.axhline(min(df['temperatura']), color = 'k', linestyle = '--')"
   ]
  },
  {
   "cell_type": "code",
   "execution_count": null,
   "id": "f5b8cd4f",
   "metadata": {},
   "outputs": [],
   "source": [
    "fig = plt.figure(figsize = (15, 8))\n",
    "eixo = fig.add_axes([0,0,1,1])\n",
    "eixo.plot(df['data'], df['temperatura'], color = 'g')\n",
    "eixo.set_title('Temperatura no momento', fontsize = 25, pad = 20)\n",
    "eixo.set_xlabel('Data', fontsize = 20)\n",
    "eixo.set_ylabel('Temperatura', fontsize = 20)\n",
    "eixo.legend(['Temperatura'], loc = 'lower right', fontsize = 15)\n",
    "eixo.grid(True)\n",
    "\n",
    "x1 = df['data'][df['temperatura'].idxmax()]\n",
    "y1 = max(df['temperatura'])\n",
    "\n",
    "x2 = df['data'][df['temperatura'].idxmax() - 7000]\n",
    "y2 = max(df['temperatura']) - 5\n",
    "\n",
    "\n",
    "eixo.annotate(\"Máximo\", xy=(x1, y1), fontsize = 15, xytext=(x2,y2), arrowprops=dict(facecolor='k'))\n",
    "\n",
    "eixo.axhline(max(df['temperatura']), color = 'k', linestyle = '--')\n",
    "eixo.axhline(min(df['temperatura']), color = 'k', linestyle = '--')"
   ]
  },
  {
   "cell_type": "code",
   "execution_count": null,
   "id": "a90494e5",
   "metadata": {},
   "outputs": [],
   "source": [
    "fig = plt.figure(figsize = (15, 8))\n",
    "eixo = fig.add_axes([0,0,1,1])\n",
    "eixo.plot(df['data'], df['temperatura'], color = 'g')\n",
    "eixo.set_title('Temperatura no momento', fontsize = 25, pad = 20)\n",
    "eixo.set_xlabel('Data', fontsize = 20)\n",
    "eixo.set_ylabel('Temperatura', fontsize = 20)\n",
    "eixo.legend(['Temperatura'], loc = 'lower right', fontsize = 15)\n",
    "eixo.grid(True)\n",
    "\n",
    "x1 = df['data'][df['temperatura'].idxmax()]\n",
    "y1 = max(df['temperatura'])\n",
    "\n",
    "x2 = df['data'][df['temperatura'].idxmax() - 7000]\n",
    "y2 = max(df['temperatura']) - 5\n",
    "\n",
    "eixo.annotate(\"Máximo\", xy=(x1, y1), fontsize = 15, xytext=(x2,y2), arrowprops=dict(facecolor='k'))\n",
    "\n",
    "\n",
    "x1 = df['data'][df['temperatura'].idxmin()]\n",
    "y1 = min(df['temperatura'])\n",
    "\n",
    "x2 = df['data'][df['temperatura'].idxmin() - 7000]\n",
    "y2 = min(df['temperatura']) + 5\n",
    "\n",
    "eixo.annotate(\"Minimo\", xy=(x2, y2), fontsize = 15, xytext=(x2,y2), arrowprops=dict(facecolor='k'))\n",
    "\n",
    "eixo.axhline(max(df['temperatura']), color = 'k', linestyle = '--')\n",
    "eixo.axhline(min(df['temperatura']), color = 'k', linestyle = '--')"
   ]
  },
  {
   "cell_type": "code",
   "execution_count": null,
   "id": "ad3c8ebc",
   "metadata": {},
   "outputs": [],
   "source": [
    "temperatura_por_dia_da_semana = df.groupby('dia_da_semana')['temperatura'].mean()\n",
    "nome_dias = ['Domingo', 'Segunda', 'Terça', 'Quarta', 'Quinta', 'Sexta', 'Sábado']\n",
    "temperatura_por_dia_da_semana = temperatura_por_dia_da_semana[nome_dias]\n",
    "temperatura_por_dia_da_semana"
   ]
  },
  {
   "cell_type": "code",
   "execution_count": null,
   "id": "f68543b7",
   "metadata": {},
   "outputs": [],
   "source": [
    "fig = plt.figure(figsize=(5,4))\n",
    "eixo = fig.add_axes([0,0,1,1])\n",
    "\n",
    "indice = range(len(temperatura_por_dia_da_semana))\n",
    "\n",
    "eixo.bar(indice, temperatura_por_dia_da_semana)\n",
    "eixo.set_title('Temperatura por dia da semana', fontsize = 15, pad=10)\n",
    "eixo.set_xlabel('Dia da semana', fontsize=15)\n",
    "eixo.set_ylabel('Temperatura Média', fontsize = 15)"
   ]
  },
  {
   "cell_type": "code",
   "execution_count": null,
   "id": "01233f87",
   "metadata": {},
   "outputs": [],
   "source": [
    "fig = plt.figure(figsize=(5,4))\n",
    "eixo = fig.add_axes([0,0,1,1])\n",
    "\n",
    "indice = range(len(temperatura_por_dia_da_semana))\n",
    "\n",
    "eixo.bar(indice, temperatura_por_dia_da_semana)\n",
    "eixo.set_title('Temperatura por dia da semana', fontsize = 15, pad=10)\n",
    "eixo.set_xlabel('Dia da semana', fontsize=15)\n",
    "eixo.set_ylabel('Temperatura Média', fontsize = 15)\n",
    "eixo.set_xticks(indice)\n",
    "eixo.set_xticklabels(nome_dias)"
   ]
  },
  {
   "cell_type": "code",
   "execution_count": null,
   "id": "9df06d09",
   "metadata": {},
   "outputs": [],
   "source": [
    "fig = plt.figure(figsize=(5,4))\n",
    "eixo = fig.add_axes([0,0,1,1])\n",
    "\n",
    "indice = range(len(temperatura_por_dia_da_semana))\n",
    "cores = ['black', 'r', 'g', 'b', 'yellow', 'orange', 'magenta']\n",
    "\n",
    "eixo.bar(indice, temperatura_por_dia_da_semana, color=cores)\n",
    "eixo.set_title('Temperatura por dia da semana', fontsize = 15, pad=10)\n",
    "eixo.set_xlabel('Dia da semana', fontsize=15)\n",
    "eixo.set_ylabel('Temperatura Média', fontsize = 15)\n",
    "eixo.set_xticks(indice)\n",
    "eixo.set_xticklabels(nome_dias)"
   ]
  },
  {
   "cell_type": "code",
   "execution_count": null,
   "id": "98db90b4",
   "metadata": {},
   "outputs": [],
   "source": [
    "fig = plt.figure(figsize=(5,4))\n",
    "eixo = fig.add_axes([0,0,1,1])\n",
    "\n",
    "indice = range(len(temperatura_por_dia_da_semana))\n",
    "cores = ['black', 'r', 'g', 'b', 'yellow', 'orange', 'magenta']\n",
    "\n",
    "eixo.bar(indice, temperatura_por_dia_da_semana, color=cores, edgecolor='black')\n",
    "eixo.set_title('Temperatura por dia da semana', fontsize = 15, pad=10)\n",
    "eixo.set_xlabel('Dia da semana', fontsize=15)\n",
    "eixo.set_ylabel('Temperatura Média', fontsize = 15)\n",
    "eixo.set_xticks(indice)\n",
    "eixo.set_xticklabels(nome_dias)"
   ]
  },
  {
   "cell_type": "code",
   "execution_count": null,
   "id": "82224016",
   "metadata": {},
   "outputs": [],
   "source": []
  },
  {
   "cell_type": "code",
   "execution_count": null,
   "id": "c8be61a1",
   "metadata": {},
   "outputs": [],
   "source": [
    "fig = plt.figure(figsize=(5,4))\n",
    "eixo = fig.add_axes([0,0,1,1])\n",
    "\n",
    "eixo.pie(temperatura_por_dia_da_semana, labels = temperatura_por_dia_da_semana.index)\n",
    "eixo.set_title('Temperatura por dia da semana', fontsize=15, pad=10)"
   ]
  },
  {
   "cell_type": "code",
   "execution_count": null,
   "id": "5f30218a",
   "metadata": {},
   "outputs": [],
   "source": [
    "fig = plt.figure(figsize=(5,4))\n",
    "eixo = fig.add_axes([0,0,1,1])\n",
    "\n",
    "eixo.pie(temperatura_por_dia_da_semana, labels = temperatura_por_dia_da_semana.index, autopct='%.1f%%')\n",
    "eixo.set_title('Temperatura por dia da semana', fontsize=15, pad=10)"
   ]
  },
  {
   "cell_type": "code",
   "execution_count": null,
   "id": "53f20e79",
   "metadata": {},
   "outputs": [],
   "source": [
    "fig = plt.figure(figsize=(5,4))\n",
    "eixo = fig.add_axes([0,0,1,1])\n",
    "\n",
    "explodir = [0.1, 0, 0, 0, 0, 0.1, 0.1]\n",
    "\n",
    "eixo.pie(temperatura_por_dia_da_semana, labels = temperatura_por_dia_da_semana.index, autopct='%.1f%%', explode = explodir, shadow = True)\n",
    "eixo.set_title('Temperatura por dia da semana', fontsize=15, pad=10)"
   ]
  },
  {
   "cell_type": "markdown",
   "id": "e59ca9e6",
   "metadata": {},
   "source": [
    "Aula 4"
   ]
  },
  {
   "cell_type": "code",
   "execution_count": null,
   "id": "9e5ae3f7",
   "metadata": {},
   "outputs": [],
   "source": [
    "import numpy as np\n",
    "import pandas as pd\n",
    "import matplotlib.pyplot as plt\n",
    "\n",
    "%matplotlib inline"
   ]
  },
  {
   "cell_type": "code",
   "execution_count": null,
   "id": "fec513d2",
   "metadata": {},
   "outputs": [],
   "source": [
    "df = pd.read_csv('iris.csv')"
   ]
  },
  {
   "cell_type": "code",
   "execution_count": null,
   "id": "b4c7f901",
   "metadata": {},
   "outputs": [],
   "source": [
    "df.head()"
   ]
  },
  {
   "cell_type": "code",
   "execution_count": null,
   "id": "7ee80664",
   "metadata": {},
   "outputs": [],
   "source": [
    "fig = plt.figure(figsize=(15,8))\n",
    "eixo = fig.add_axes([0, 0, 1,1])\n",
    "\n",
    "eixo.scatter(df['comprimento_sépala'], df['largura_sépala'])\n",
    "eixo.set_title('Gráfico de dispersão', fontsize = 25, pad = 15)\n",
    "eixo.set_xlabel('Comprimento da sépala', fontsize=15)\n",
    "eixo.set_ylabel('Largura da sépala', fontsize = 15)"
   ]
  },
  {
   "cell_type": "code",
   "execution_count": null,
   "id": "eafabe17",
   "metadata": {},
   "outputs": [],
   "source": [
    "fig = plt.figure(figsize=(15,8))\n",
    "eixo = fig.add_axes([0, 0, 1,1])\n",
    "\n",
    "eixo.scatter(df['comprimento_sépala'], df['largura_sépala'])\n",
    "eixo.set_title('Gráfico de dispersão', fontsize = 25, pad = 15)\n",
    "eixo.set_xlabel('Comprimento da sépala', fontsize=15)\n",
    "eixo.set_ylabel('Largura da sépala', fontsize = 15)\n",
    "eixo.tick_params(labelsize=15)"
   ]
  },
  {
   "cell_type": "code",
   "execution_count": null,
   "id": "ec76caea",
   "metadata": {},
   "outputs": [],
   "source": [
    "fig = plt.figure(figsize=(15,8))\n",
    "eixo = fig.add_axes([0, 0, 1,1])\n",
    "\n",
    "cores = {'Iris-setosa': 'r', 'Iris-versicolor': 'b', 'Iris-virginica': 'g'}\n",
    "\n",
    "for especie in df['espécie'].unique():\n",
    "    tmp = df[df['espécie'] == especie]\n",
    "    eixo.scatter(tmp['comprimento_sépala'], tmp['largura_sépala'], color = cores[especie])\n",
    "    \n",
    "\n",
    "\n",
    "eixo.set_title('Gráfico de dispersão', fontsize = 25, pad = 15)\n",
    "eixo.set_xlabel('Comprimento da sépala', fontsize=15)\n",
    "eixo.set_ylabel('Largura da sépala', fontsize = 15)\n",
    "eixo.tick_params(labelsize=15)\n",
    "eixo.legend(cores, fontsize=20)"
   ]
  },
  {
   "cell_type": "code",
   "execution_count": null,
   "id": "c32ace9e",
   "metadata": {},
   "outputs": [],
   "source": [
    "fig = plt.figure(figsize=(15,8))\n",
    "eixo = fig.add_axes([0, 0, 1,1])\n",
    "\n",
    "cores = {'Iris-setosa': 'r', 'Iris-versicolor': 'b', 'Iris-virginica': 'g'}\n",
    "marcadores = {'Iris-setosa': 'x', 'Iris-versicolor': 'o', 'Iris-virginica': 'v'}\n",
    "\n",
    "for especie in df['espécie'].unique():\n",
    "    tmp = df[df['espécie'] == especie]\n",
    "    eixo.scatter(tmp['comprimento_sépala'], tmp['largura_sépala'], color = cores[especie], marker=marcadores[especie])\n",
    "    \n",
    "\n",
    "\n",
    "eixo.set_title('Gráfico de dispersão', fontsize = 25, pad = 15)\n",
    "eixo.set_xlabel('Comprimento da sépala', fontsize=15)\n",
    "eixo.set_ylabel('Largura da sépala', fontsize = 15)\n",
    "eixo.tick_params(labelsize=15)\n",
    "eixo.legend(cores, fontsize=20)"
   ]
  },
  {
   "cell_type": "code",
   "execution_count": null,
   "id": "86cb589a",
   "metadata": {},
   "outputs": [],
   "source": [
    "fig = plt.figure(figsize=(15,8))\n",
    "eixo = fig.add_axes([0, 0, 1,1])\n",
    "\n",
    "cores = {'Iris-setosa': 'r', 'Iris-versicolor': 'b', 'Iris-virginica': 'g'}\n",
    "marcadores = {'Iris-setosa': 'x', 'Iris-versicolor': 'o', 'Iris-virginica': 'v'}\n",
    "\n",
    "for especie in df['espécie'].unique():\n",
    "    tmp = df[df['espécie'] == especie]\n",
    "    eixo.scatter(tmp['comprimento_sépala'], tmp['largura_sépala'], color = cores[especie], marker=marcadores[especie], s=100)\n",
    "    \n",
    "\n",
    "\n",
    "eixo.set_title('Gráfico de dispersão', fontsize = 25, pad = 15)\n",
    "eixo.set_xlabel('Comprimento da sépala', fontsize=15)\n",
    "eixo.set_ylabel('Largura da sépala', fontsize = 15)\n",
    "eixo.tick_params(labelsize=15)\n",
    "eixo.legend(cores, fontsize=20)"
   ]
  },
  {
   "cell_type": "code",
   "execution_count": null,
   "id": "95448292",
   "metadata": {},
   "outputs": [],
   "source": [
    "fig = plt.figure(figsize = (5,4))\n",
    "eixo = fig.add_axes([0,0,1,1])\n",
    "\n",
    "eixo.boxplot(df['largura_pétala'])\n",
    "eixo.set_title('Gráfico de caixa', fontsize = 15, pad = 10)\n",
    "eixo.set_xticklabels(df.drop)"
   ]
  },
  {
   "cell_type": "code",
   "execution_count": null,
   "id": "1b0f0f8e",
   "metadata": {},
   "outputs": [],
   "source": [
    "fig = plt.figure(figsize = (8,5))\n",
    "eixo = fig.add_axes([0,0,1,1])\n",
    "\n",
    "eixo.boxplot(df.drop('espécie', axis=1).values)\n",
    "eixo.set_title('Gráfico de caixa', fontsize = 15, pad = 10)\n",
    "eixo.set_xticklabels(df.drop('espécie', axis=1).columns)"
   ]
  },
  {
   "cell_type": "code",
   "execution_count": null,
   "id": "495d5547",
   "metadata": {},
   "outputs": [],
   "source": [
    "fig = plt.figure(figsize = (8,5))\n",
    "eixo = fig.add_axes([0,0,1,1])\n",
    "\n",
    "eixo.boxplot(df.drop('espécie', axis=1).values, patch_artist = True)\n",
    "eixo.set_title('Gráfico de caixa', fontsize = 15, pad = 10)\n",
    "eixo.set_xticklabels(df.drop('espécie', axis=1).columns)"
   ]
  },
  {
   "cell_type": "code",
   "execution_count": null,
   "id": "6c47faaa",
   "metadata": {},
   "outputs": [],
   "source": [
    "fig = plt.figure(figsize = (8,5))\n",
    "eixo = fig.add_axes([0,0,1,1])\n",
    "\n",
    "cores = ['red', 'blue', 'orange', 'green']\n",
    "\n",
    "caixas = eixo.boxplot(df.drop('espécie', axis=1).values, patch_artist = True)\n",
    "eixo.set_title('Gráfico de caixa', fontsize = 15, pad = 10)\n",
    "eixo.set_xticklabels(df.drop('espécie', axis=1).columns)\n",
    "\n",
    "for caixa, cor in zip(caixas['boxes'], cores):\n",
    "    caixa.set(color=cor)"
   ]
  },
  {
   "cell_type": "code",
   "execution_count": null,
   "id": "b6d34115",
   "metadata": {},
   "outputs": [],
   "source": [
    "fig = plt.figure(figsize = (8,5))\n",
    "eixo = fig.add_axes([0,0,1,1])\n",
    "\n",
    "cores = ['red', 'blue', 'orange', 'green']\n",
    "\n",
    "caixas = eixo.boxplot(df.drop('espécie', axis=1).values, patch_artist = True)\n",
    "eixo.set_title('Gráfico de caixa', fontsize = 15, pad = 10)\n",
    "eixo.set_xticklabels(df.drop('espécie', axis=1).columns)\n",
    "\n",
    "for caixa, cor in zip(caixas['boxes'], cores):\n",
    "    caixa.set(color=cor)\n",
    "    \n",
    "for outlier in caixas['fliers']:\n",
    "    outlier.set(marker='x', markersize=8)"
   ]
  },
  {
   "cell_type": "code",
   "execution_count": null,
   "id": "e3b95a7a",
   "metadata": {},
   "outputs": [],
   "source": [
    "fig = plt.figure(figsize = (5,4))\n",
    "eixo = fig.add_axes([0,0,1,1])\n",
    "\n",
    "eixo.hist(df['comprimento_pétala'])\n",
    "eixo.set_title('Histograma', fontsize=15, pad=10)\n",
    "eixo.set_xlabel('Comprimento da Pétala', fontsize = 15)\n",
    "eixo.grid=True"
   ]
  },
  {
   "cell_type": "code",
   "execution_count": null,
   "id": "57ca3bf1",
   "metadata": {},
   "outputs": [],
   "source": [
    "fig = plt.figure(figsize = (5,4))\n",
    "eixo = fig.add_axes([0,0,1,1])\n",
    "\n",
    "eixo.hist(df['comprimento_pétala'], bins = 20, density = True)\n",
    "eixo.set_title('Histograma', fontsize=15, pad=10)\n",
    "eixo.set_xlabel('Comprimento da Pétala', fontsize = 15)\n",
    "eixo.grid=True"
   ]
  },
  {
   "cell_type": "code",
   "execution_count": null,
   "id": "ae6beec6",
   "metadata": {},
   "outputs": [],
   "source": [
    "fig = plt.figure(figsize = (5,4))\n",
    "eixo = fig.add_axes([0,0,1,1])\n",
    "\n",
    "mu, sigma = df['comprimento_pétala'].mean(), df['comprimento_pétala'].std()\n",
    "\n",
    "eixo.hist(df['comprimento_pétala'], bins = 20)\n",
    "eixo.set_title('Histograma', fontsize=15, pad=10)\n",
    "eixo.set_xlabel('Comprimento da Pétala', fontsize = 15)\n",
    "eixo.grid=True\n",
    "\n",
    "eixo.annotate('$mu = {0:.2f}$\\n$sigma = {1:.2f}$'.format(mu,sigma), xy=(4.5,20), fontsize=20)\n"
   ]
  },
  {
   "cell_type": "code",
   "execution_count": null,
   "id": "b73cbd98",
   "metadata": {},
   "outputs": [],
   "source": [
    "fig = plt.figure(figsize = (5,4))\n",
    "eixo = fig.add_axes([0,0,1,1])\n",
    "\n",
    "mu, sigma = df['comprimento_pétala'].mean(), df['comprimento_pétala'].std()\n",
    "\n",
    "eixo.hist(df['comprimento_pétala'], bins = 20)\n",
    "eixo.set_title('Histograma', fontsize=15, pad=10)\n",
    "eixo.set_xlabel('Comprimento da Pétala', fontsize = 15)\n",
    "eixo.grid=True\n",
    "\n",
    "eixo.annotate('$mu = {0:.2f}$\\n$sigma = {1:.2f}$'.format(mu,sigma), xy=(4.5,20), fontsize=20)\n",
    "\n",
    "eixo.axvline(mu, color = 'k', linestyle = '--')\n",
    "eixo.annotate('média', xy=(mu-1.3, 28), fontsize = 20)"
   ]
  },
  {
   "cell_type": "code",
   "execution_count": null,
   "id": "ff5b6bae",
   "metadata": {},
   "outputs": [],
   "source": [
    "fig = plt.figure(figsize = (5,4))\n",
    "eixo = fig.add_axes([0,0,1,1])\n",
    "\n",
    "mu, sigma = df['comprimento_pétala'].mean(), df['comprimento_pétala'].std()\n",
    "\n",
    "eixo.hist(df['comprimento_pétala'], bins = 20)\n",
    "eixo.set_title('Histograma', fontsize=15, pad=10)\n",
    "eixo.set_xlabel('Comprimento da Pétala', fontsize = 15)\n",
    "eixo.grid=True\n",
    "\n",
    "eixo.annotate('$\\mu = {0:.2f}$\\n$\\sigma = {1:.2f}$'.format(mu,sigma), xy=(4.5,20), fontsize=20)\n",
    "\n",
    "eixo.axvline(mu, color = 'k', linestyle = '--')\n",
    "eixo.annotate('média', xy=(mu-1.3, 28), fontsize = 20)\n",
    "\n",
    "eixo.axvline(df['comprimento_pétala'].median(), color = 'g', linestyle = '--')\n",
    "eixo.annotate('mediana', xy=(df['comprimento_pétala'].median(), 31), fontsize = 20)"
   ]
  },
  {
   "cell_type": "code",
   "execution_count": null,
   "id": "41415b36",
   "metadata": {},
   "outputs": [],
   "source": [
    "fig = plt.figure(figsize = (5,4))\n",
    "eixo = fig.add_axes([0,0,1,1])\n",
    "\n",
    "df_iv = df[df['espécie'] == 'Iris-versicolor']\n",
    "\n",
    "mu, sigma = df_iv['comprimento_pétala'].mean(), df_iv['comprimento_pétala'].std()\n",
    "\n",
    "eixo.hist(df_iv['comprimento_pétala'], bins = 20)\n",
    "eixo.set_title('Iris Versicolor', fontsize=15, pad=10)\n",
    "eixo.set_xlabel('Comprimento da Pétala', fontsize = 15)\n",
    "eixo.grid=True\n",
    "\n",
    "eixo.annotate('$\\mu = {0:.2f}$\\n$\\sigma = {1:.2f}$'.format(mu,sigma), xy=(4.6,6), fontsize=20)\n",
    "\n",
    "eixo.axvline(mu, color = 'k', linestyle = '--')\n",
    "eixo.annotate('média', xy=(mu-0.5, 5.5), fontsize = 20)\n",
    "\n",
    "eixo.axvline(df_iv['comprimento_pétala'].median(), color = 'g', linestyle = '--')\n",
    "eixo.annotate('mediana', xy=(df_iv['comprimento_pétala'].median()-0.7, 6.5), fontsize = 20)\n",
    "\n",
    "fig.savefig('histograma_iv.png', bbox_inches = 'tight')"
   ]
  },
  {
   "cell_type": "code",
   "execution_count": null,
   "id": "462af7fe",
   "metadata": {},
   "outputs": [],
   "source": [
    "fig = plt.figure(figsize = (5,4))\n",
    "eixo = fig.add_axes([0,0,1,1])\n",
    "\n",
    "df_is = df[df['espécie'] == 'Iris-setosa']\n",
    "\n",
    "mu, sigma = df_is['comprimento_pétala'].mean(), df_is['comprimento_pétala'].std()\n",
    "\n",
    "eixo.hist(df_is['comprimento_pétala'], bins = 20)\n",
    "eixo.set_title('Iris Setosa', fontsize=15, pad=10)\n",
    "eixo.set_xlabel('Comprimento da Pétala', fontsize = 15)\n",
    "eixo.grid(True)\n",
    "\n",
    "eixo.annotate('$\\mu = {0:.2f}$\\n$\\sigma = {1:.2f}$'.format(mu,sigma), xy=(1.7, 7), fontsize=20)\n",
    "\n",
    "eixo.axvline(mu, color = 'k', linestyle = '--')\n",
    "eixo.annotate('média', xy=(mu-0.2, 13.5), fontsize = 20)\n",
    "\n",
    "eixo.axvline(df_is['comprimento_pétala'].median(), color = 'g', linestyle = '--')\n",
    "eixo.annotate('mediana', xy=(df_is['comprimento_pétala'].median()+0.05, 12), fontsize = 20, color = 'g')\n",
    "\n",
    "fig.savefig('histograma_is.png', bbox_inches = 'tight')"
   ]
  },
  {
   "cell_type": "code",
   "execution_count": null,
   "id": "a9475bcf",
   "metadata": {},
   "outputs": [],
   "source": [
    "fig = plt.figure(figsize = (5,4))\n",
    "eixo = fig.add_axes([0,0,1,1])\n",
    "\n",
    "df_ivc = df[df['espécie'] == 'Iris-virginica']\n",
    "\n",
    "mu, sigma = df_ivc['comprimento_pétala'].mean(), df_ivc['comprimento_pétala'].std()\n",
    "\n",
    "eixo.hist(df_ivc['comprimento_pétala'], bins = 20)\n",
    "eixo.set_title('Iris Virginica', fontsize=15, pad=10)\n",
    "eixo.set_xlabel('Comprimento da Pétala', fontsize = 15)\n",
    "eixo.grid(True)\n",
    "\n",
    "eixo.annotate('$\\mu = {0:.2f}$\\n$\\sigma = {1:.2f}$'.format(mu,sigma), xy=(6.3, 7), fontsize=20)\n",
    "\n",
    "eixo.axvline(mu, color = 'k', linestyle = '--')\n",
    "eixo.annotate('média', xy=(mu, 8), fontsize = 20)\n",
    "\n",
    "eixo.axvline(df_ivc['comprimento_pétala'].median(), color = 'g', linestyle = '--')\n",
    "eixo.annotate('mediana', xy=(df_ivc['comprimento_pétala'].median(), 7), fontsize = 20, color = 'g')\n",
    "\n",
    "fig.savefig('histograma_ivc.png', bbox_inches = 'tight')"
   ]
  },
  {
   "cell_type": "code",
   "execution_count": null,
   "id": "2f6fab52",
   "metadata": {},
   "outputs": [],
   "source": [
    "from PIL import Image\n",
    "\n",
    "largura, altura = Image.open('histograma_ivc.png').size\n",
    "combinada = Image.new('RGB', (3*largura, altura))\n",
    "intervalo = 0\n",
    "for imagem in map(Image.open, ['histograma_iv.png', 'histograma_is.png', 'histograma_ivc.png']):\n",
    "    combinada.paste(imagem, (intervalo, 0))\n",
    "    intervalo += largura\n",
    "    \n",
    "combinada.save('combinada.png')"
   ]
  },
  {
   "cell_type": "code",
   "execution_count": null,
   "id": "1e4cf039",
   "metadata": {},
   "outputs": [],
   "source": [
    "combinada"
   ]
  },
  {
   "cell_type": "code",
   "execution_count": null,
   "id": "3886c8be",
   "metadata": {},
   "outputs": [],
   "source": []
  }
 ],
 "metadata": {
  "kernelspec": {
   "display_name": "Python 3 (ipykernel)",
   "language": "python",
   "name": "python3"
  },
  "language_info": {
   "codemirror_mode": {
    "name": "ipython",
    "version": 3
   },
   "file_extension": ".py",
   "mimetype": "text/x-python",
   "name": "python",
   "nbconvert_exporter": "python",
   "pygments_lexer": "ipython3",
   "version": "3.9.7"
  }
 },
 "nbformat": 4,
 "nbformat_minor": 5
}
